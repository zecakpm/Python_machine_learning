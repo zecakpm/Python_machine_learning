{
  "nbformat": 4,
  "nbformat_minor": 0,
  "metadata": {
    "colab": {
      "name": "leads_scoring.ipynb",
      "provenance": [],
      "authorship_tag": "ABX9TyNtviVhB+wfFV/PFrUSDVKd",
      "include_colab_link": true
    },
    "kernelspec": {
      "display_name": "Python 3",
      "name": "python3"
    },
    "language_info": {
      "name": "python"
    }
  },
  "cells": [
    {
      "cell_type": "markdown",
      "metadata": {
        "id": "view-in-github",
        "colab_type": "text"
      },
      "source": [
        "<a href=\"https://colab.research.google.com/github/zecakpm/Python_machine_learning/blob/master/leads_scoring.ipynb\" target=\"_parent\"><img src=\"https://colab.research.google.com/assets/colab-badge.svg\" alt=\"Open In Colab\"/></a>"
      ]
    },
    {
      "cell_type": "markdown",
      "metadata": {
        "id": "6mDArazv-8k8"
      },
      "source": [
        "##**Lead scoring model**\n",
        "\n",
        "Steps:\n",
        "* feature selection\n",
        "* split dataset\n",
        "* data engineering\n",
        " - categorical variables >> dummy variables \n",
        " - numerical variables >> scaled variables\n",
        "* train model (Radom Forest Classifier)\n",
        "* feature importance rank\n",
        "\n"
      ]
    },
    {
      "cell_type": "markdown",
      "metadata": {
        "id": "TFU0Dz1X7M_1"
      },
      "source": [
        "##**Import libraries**"
      ]
    },
    {
      "cell_type": "code",
      "metadata": {
        "id": "W3N_DhhoZpPQ"
      },
      "source": [
        "import numpy as np\n",
        "import pandas as pd\n",
        "import matplotlib.pyplot as plt\n",
        "import sklearn\n",
        "from sklearn.model_selection import train_test_split\n",
        "from sklearn.preprocessing import StandardScaler\n",
        "from sklearn.ensemble import RandomForestClassifier\n",
        "from sklearn.metrics import accuracy_score, roc_auc_score"
      ],
      "execution_count": null,
      "outputs": []
    },
    {
      "cell_type": "markdown",
      "metadata": {
        "id": "dn7E5RH47Wif"
      },
      "source": [
        "Reference material\n",
        "https://towardsdatascience.com/a-true-end-to-end-ml-example-lead-scoring-f5b52e9a3c80"
      ]
    },
    {
      "cell_type": "code",
      "metadata": {
        "colab": {
          "base_uri": "https://localhost:8080/"
        },
        "id": "Sttlag4lZ0N1",
        "outputId": "9eb97b0d-aa11-4f45-d829-a38b3aeddc85"
      },
      "source": [
        "#connecting with personal frive\n",
        "from google.colab import drive\n",
        "drive.mount('/content/drive')"
      ],
      "execution_count": null,
      "outputs": [
        {
          "output_type": "stream",
          "text": [
            "Drive already mounted at /content/drive; to attempt to forcibly remount, call drive.mount(\"/content/drive\", force_remount=True).\n"
          ],
          "name": "stdout"
        }
      ]
    },
    {
      "cell_type": "code",
      "metadata": {
        "id": "GsZzO5UlZ8l-"
      },
      "source": [
        "#open file\n",
        "df = open('/content/drive/My Drive/Colab Notebooks/Projects/leads_scoring/Leads_cleaned.csv')"
      ],
      "execution_count": null,
      "outputs": []
    },
    {
      "cell_type": "code",
      "metadata": {
        "id": "8h6nCVbCZ8aY"
      },
      "source": [
        "df = pd.read_csv(df,index_col=0)"
      ],
      "execution_count": null,
      "outputs": []
    },
    {
      "cell_type": "markdown",
      "metadata": {
        "id": "JQW9nGAOltx_"
      },
      "source": [
        "##**Lower case column names**"
      ]
    },
    {
      "cell_type": "code",
      "metadata": {
        "id": "KL5YTy7fdFjX"
      },
      "source": [
        "df.columns = map(str.lower, df.columns)"
      ],
      "execution_count": null,
      "outputs": []
    },
    {
      "cell_type": "code",
      "metadata": {
        "colab": {
          "base_uri": "https://localhost:8080/",
          "height": 535
        },
        "id": "s_bvcvuCZ8Xe",
        "outputId": "9c931cc2-3f20-4df5-f175-c279b612bfe3"
      },
      "source": [
        "df.head()"
      ],
      "execution_count": null,
      "outputs": [
        {
          "output_type": "execute_result",
          "data": {
            "text/html": [
              "<div>\n",
              "<style scoped>\n",
              "    .dataframe tbody tr th:only-of-type {\n",
              "        vertical-align: middle;\n",
              "    }\n",
              "\n",
              "    .dataframe tbody tr th {\n",
              "        vertical-align: top;\n",
              "    }\n",
              "\n",
              "    .dataframe thead th {\n",
              "        text-align: right;\n",
              "    }\n",
              "</style>\n",
              "<table border=\"1\" class=\"dataframe\">\n",
              "  <thead>\n",
              "    <tr style=\"text-align: right;\">\n",
              "      <th></th>\n",
              "      <th>prospect id</th>\n",
              "      <th>lead number</th>\n",
              "      <th>lead origin</th>\n",
              "      <th>lead source</th>\n",
              "      <th>do not email</th>\n",
              "      <th>do not call</th>\n",
              "      <th>converted</th>\n",
              "      <th>totalvisits</th>\n",
              "      <th>total time spent on website</th>\n",
              "      <th>page views per visit</th>\n",
              "      <th>last activity</th>\n",
              "      <th>country</th>\n",
              "      <th>specialization</th>\n",
              "      <th>what is your current occupation</th>\n",
              "      <th>what matters most to you in choosing a course</th>\n",
              "      <th>search</th>\n",
              "      <th>magazine</th>\n",
              "      <th>newspaper article</th>\n",
              "      <th>x education forums</th>\n",
              "      <th>newspaper</th>\n",
              "      <th>digital advertisement</th>\n",
              "      <th>through recommendations</th>\n",
              "      <th>receive more updates about our courses</th>\n",
              "      <th>tags</th>\n",
              "      <th>lead quality</th>\n",
              "      <th>update me on supply chain content</th>\n",
              "      <th>get updates on dm content</th>\n",
              "      <th>city</th>\n",
              "      <th>i agree to pay the amount through cheque</th>\n",
              "      <th>a free copy of mastering the interview</th>\n",
              "      <th>last notable activity</th>\n",
              "    </tr>\n",
              "  </thead>\n",
              "  <tbody>\n",
              "    <tr>\n",
              "      <th>0</th>\n",
              "      <td>7927b2df-8bba-4d29-b9a2-b6e0beafe620</td>\n",
              "      <td>660737</td>\n",
              "      <td>API</td>\n",
              "      <td>Olark Chat</td>\n",
              "      <td>No</td>\n",
              "      <td>No</td>\n",
              "      <td>0</td>\n",
              "      <td>0.0</td>\n",
              "      <td>0</td>\n",
              "      <td>0.0</td>\n",
              "      <td>Page Visited on Website</td>\n",
              "      <td>India</td>\n",
              "      <td>Others</td>\n",
              "      <td>Unemployed</td>\n",
              "      <td>Better Career Prospects</td>\n",
              "      <td>No</td>\n",
              "      <td>No</td>\n",
              "      <td>No</td>\n",
              "      <td>No</td>\n",
              "      <td>No</td>\n",
              "      <td>No</td>\n",
              "      <td>No</td>\n",
              "      <td>No</td>\n",
              "      <td>Interested in other courses</td>\n",
              "      <td>Low in Relevance</td>\n",
              "      <td>No</td>\n",
              "      <td>No</td>\n",
              "      <td>Mumbai</td>\n",
              "      <td>No</td>\n",
              "      <td>No</td>\n",
              "      <td>Modified</td>\n",
              "    </tr>\n",
              "    <tr>\n",
              "      <th>1</th>\n",
              "      <td>2a272436-5132-4136-86fa-dcc88c88f482</td>\n",
              "      <td>660728</td>\n",
              "      <td>API</td>\n",
              "      <td>Organic Search</td>\n",
              "      <td>No</td>\n",
              "      <td>No</td>\n",
              "      <td>0</td>\n",
              "      <td>5.0</td>\n",
              "      <td>674</td>\n",
              "      <td>2.5</td>\n",
              "      <td>Email Opened</td>\n",
              "      <td>India</td>\n",
              "      <td>Others</td>\n",
              "      <td>Unemployed</td>\n",
              "      <td>Better Career Prospects</td>\n",
              "      <td>No</td>\n",
              "      <td>No</td>\n",
              "      <td>No</td>\n",
              "      <td>No</td>\n",
              "      <td>No</td>\n",
              "      <td>No</td>\n",
              "      <td>No</td>\n",
              "      <td>No</td>\n",
              "      <td>Ringing</td>\n",
              "      <td>Not Sure</td>\n",
              "      <td>No</td>\n",
              "      <td>No</td>\n",
              "      <td>Mumbai</td>\n",
              "      <td>No</td>\n",
              "      <td>No</td>\n",
              "      <td>Email Opened</td>\n",
              "    </tr>\n",
              "    <tr>\n",
              "      <th>2</th>\n",
              "      <td>8cc8c611-a219-4f35-ad23-fdfd2656bd8a</td>\n",
              "      <td>660727</td>\n",
              "      <td>Landing Page Submission</td>\n",
              "      <td>Direct Traffic</td>\n",
              "      <td>No</td>\n",
              "      <td>No</td>\n",
              "      <td>1</td>\n",
              "      <td>2.0</td>\n",
              "      <td>1532</td>\n",
              "      <td>2.0</td>\n",
              "      <td>Email Opened</td>\n",
              "      <td>India</td>\n",
              "      <td>Business Administration</td>\n",
              "      <td>Student</td>\n",
              "      <td>Better Career Prospects</td>\n",
              "      <td>No</td>\n",
              "      <td>No</td>\n",
              "      <td>No</td>\n",
              "      <td>No</td>\n",
              "      <td>No</td>\n",
              "      <td>No</td>\n",
              "      <td>No</td>\n",
              "      <td>No</td>\n",
              "      <td>Will revert after reading the email</td>\n",
              "      <td>Might be</td>\n",
              "      <td>No</td>\n",
              "      <td>No</td>\n",
              "      <td>Mumbai</td>\n",
              "      <td>No</td>\n",
              "      <td>Yes</td>\n",
              "      <td>Email Opened</td>\n",
              "    </tr>\n",
              "    <tr>\n",
              "      <th>3</th>\n",
              "      <td>0cc2df48-7cf4-4e39-9de9-19797f9b38cc</td>\n",
              "      <td>660719</td>\n",
              "      <td>Landing Page Submission</td>\n",
              "      <td>Direct Traffic</td>\n",
              "      <td>No</td>\n",
              "      <td>No</td>\n",
              "      <td>0</td>\n",
              "      <td>1.0</td>\n",
              "      <td>305</td>\n",
              "      <td>1.0</td>\n",
              "      <td>Unreachable</td>\n",
              "      <td>India</td>\n",
              "      <td>Media and Advertising</td>\n",
              "      <td>Unemployed</td>\n",
              "      <td>Better Career Prospects</td>\n",
              "      <td>No</td>\n",
              "      <td>No</td>\n",
              "      <td>No</td>\n",
              "      <td>No</td>\n",
              "      <td>No</td>\n",
              "      <td>No</td>\n",
              "      <td>No</td>\n",
              "      <td>No</td>\n",
              "      <td>Ringing</td>\n",
              "      <td>Not Sure</td>\n",
              "      <td>No</td>\n",
              "      <td>No</td>\n",
              "      <td>Mumbai</td>\n",
              "      <td>No</td>\n",
              "      <td>No</td>\n",
              "      <td>Modified</td>\n",
              "    </tr>\n",
              "    <tr>\n",
              "      <th>4</th>\n",
              "      <td>3256f628-e534-4826-9d63-4a8b88782852</td>\n",
              "      <td>660681</td>\n",
              "      <td>Landing Page Submission</td>\n",
              "      <td>Google</td>\n",
              "      <td>No</td>\n",
              "      <td>No</td>\n",
              "      <td>1</td>\n",
              "      <td>2.0</td>\n",
              "      <td>1428</td>\n",
              "      <td>1.0</td>\n",
              "      <td>Converted to Lead</td>\n",
              "      <td>India</td>\n",
              "      <td>Others</td>\n",
              "      <td>Unemployed</td>\n",
              "      <td>Better Career Prospects</td>\n",
              "      <td>No</td>\n",
              "      <td>No</td>\n",
              "      <td>No</td>\n",
              "      <td>No</td>\n",
              "      <td>No</td>\n",
              "      <td>No</td>\n",
              "      <td>No</td>\n",
              "      <td>No</td>\n",
              "      <td>Will revert after reading the email</td>\n",
              "      <td>Might be</td>\n",
              "      <td>No</td>\n",
              "      <td>No</td>\n",
              "      <td>Mumbai</td>\n",
              "      <td>No</td>\n",
              "      <td>No</td>\n",
              "      <td>Modified</td>\n",
              "    </tr>\n",
              "  </tbody>\n",
              "</table>\n",
              "</div>"
            ],
            "text/plain": [
              "                            prospect id  ...  last notable activity\n",
              "0  7927b2df-8bba-4d29-b9a2-b6e0beafe620  ...               Modified\n",
              "1  2a272436-5132-4136-86fa-dcc88c88f482  ...           Email Opened\n",
              "2  8cc8c611-a219-4f35-ad23-fdfd2656bd8a  ...           Email Opened\n",
              "3  0cc2df48-7cf4-4e39-9de9-19797f9b38cc  ...               Modified\n",
              "4  3256f628-e534-4826-9d63-4a8b88782852  ...               Modified\n",
              "\n",
              "[5 rows x 31 columns]"
            ]
          },
          "metadata": {
            "tags": []
          },
          "execution_count": 71
        }
      ]
    },
    {
      "cell_type": "code",
      "metadata": {
        "colab": {
          "base_uri": "https://localhost:8080/"
        },
        "id": "v3jqFhpiZ8Uw",
        "outputId": "ddc902c4-7789-4ac1-9ac9-10f3b5c1b762"
      },
      "source": [
        "df.shape"
      ],
      "execution_count": null,
      "outputs": [
        {
          "output_type": "execute_result",
          "data": {
            "text/plain": [
              "(9074, 31)"
            ]
          },
          "metadata": {
            "tags": []
          },
          "execution_count": 72
        }
      ]
    },
    {
      "cell_type": "code",
      "metadata": {
        "colab": {
          "base_uri": "https://localhost:8080/"
        },
        "id": "2V7ZKtOdZ8SP",
        "outputId": "9a60c024-c186-4a01-bade-9608c301a69d"
      },
      "source": [
        "df.columns"
      ],
      "execution_count": null,
      "outputs": [
        {
          "output_type": "execute_result",
          "data": {
            "text/plain": [
              "Index(['prospect id', 'lead number', 'lead origin', 'lead source',\n",
              "       'do not email', 'do not call', 'converted', 'totalvisits',\n",
              "       'total time spent on website', 'page views per visit', 'last activity',\n",
              "       'country', 'specialization', 'what is your current occupation',\n",
              "       'what matters most to you in choosing a course', 'search', 'magazine',\n",
              "       'newspaper article', 'x education forums', 'newspaper',\n",
              "       'digital advertisement', 'through recommendations',\n",
              "       'receive more updates about our courses', 'tags', 'lead quality',\n",
              "       'update me on supply chain content', 'get updates on dm content',\n",
              "       'city', 'i agree to pay the amount through cheque',\n",
              "       'a free copy of mastering the interview', 'last notable activity'],\n",
              "      dtype='object')"
            ]
          },
          "metadata": {
            "tags": []
          },
          "execution_count": 73
        }
      ]
    },
    {
      "cell_type": "markdown",
      "metadata": {
        "id": "ah1m_P3w8BOJ"
      },
      "source": [
        "##**Feature selection**\n",
        "* Columns for the model"
      ]
    },
    {
      "cell_type": "code",
      "metadata": {
        "id": "TMyKQBw5Z8Pf"
      },
      "source": [
        "cat_vars = ['lead origin',\n",
        "            'lead source',\n",
        "            'last activity',\n",
        "            'specialization',\n",
        "            'what is your current occupation',\n",
        "            'what matters most to you in choosing a course',\n",
        "            'city',\n",
        "            'last notable activity']\n",
        "\n",
        "num_vars = ['totalvisits',\n",
        "          'total time spent on website',\n",
        "          'page views per visit']\n",
        "\n",
        "target_label = ['converted']\n",
        "\n",
        "all = cat_vars + num_vars + target_label"
      ],
      "execution_count": null,
      "outputs": []
    },
    {
      "cell_type": "code",
      "metadata": {
        "id": "aLHKzQLm8QJb"
      },
      "source": [
        "df = df[all].copy()"
      ],
      "execution_count": null,
      "outputs": []
    },
    {
      "cell_type": "code",
      "metadata": {
        "colab": {
          "base_uri": "https://localhost:8080/"
        },
        "id": "rgxn4ydT9otI",
        "outputId": "707fd3b6-bb3e-4296-b5a6-f9e9c21906e4"
      },
      "source": [
        "df.shape"
      ],
      "execution_count": null,
      "outputs": [
        {
          "output_type": "execute_result",
          "data": {
            "text/plain": [
              "(9074, 12)"
            ]
          },
          "metadata": {
            "tags": []
          },
          "execution_count": 76
        }
      ]
    },
    {
      "cell_type": "markdown",
      "metadata": {
        "id": "rhL2fow-8Zaq"
      },
      "source": [
        "##**Split Dataset**"
      ]
    },
    {
      "cell_type": "code",
      "metadata": {
        "id": "XO9QyVl5gzxn"
      },
      "source": [
        "X = df.drop(target_label, axis=1)\n",
        "y = df[target_label]\n",
        "\n",
        "X_train, X_test, y_train, y_test = train_test_split(X,\n",
        "                                                    y,\n",
        "                                                    train_size = 0.7,\n",
        "                                                    test_size=0.3,\n",
        "                                                    random_state=333\n",
        "                                                    )"
      ],
      "execution_count": null,
      "outputs": []
    },
    {
      "cell_type": "markdown",
      "metadata": {
        "id": "WGUiGQAs8iq_"
      },
      "source": [
        "##**Adding Dummy Variables**\n",
        "* Categorical variables >> Dummy variables"
      ]
    },
    {
      "cell_type": "code",
      "metadata": {
        "id": "14ReW6SQ7aAz"
      },
      "source": [
        "X_train[cat_vars] = X_train[cat_vars].apply(lambda x: x.str.lower())\n",
        "X_test[cat_vars] = X_test[cat_vars].apply(lambda x: x.str.lower())"
      ],
      "execution_count": null,
      "outputs": []
    },
    {
      "cell_type": "code",
      "metadata": {
        "colab": {
          "base_uri": "https://localhost:8080/",
          "height": 469
        },
        "id": "HqB3o7bn8bjI",
        "outputId": "acb04d75-b9b9-451d-9f2a-234029c75ee1"
      },
      "source": [
        "X_test.head()"
      ],
      "execution_count": null,
      "outputs": [
        {
          "output_type": "execute_result",
          "data": {
            "text/html": [
              "<div>\n",
              "<style scoped>\n",
              "    .dataframe tbody tr th:only-of-type {\n",
              "        vertical-align: middle;\n",
              "    }\n",
              "\n",
              "    .dataframe tbody tr th {\n",
              "        vertical-align: top;\n",
              "    }\n",
              "\n",
              "    .dataframe thead th {\n",
              "        text-align: right;\n",
              "    }\n",
              "</style>\n",
              "<table border=\"1\" class=\"dataframe\">\n",
              "  <thead>\n",
              "    <tr style=\"text-align: right;\">\n",
              "      <th></th>\n",
              "      <th>lead origin</th>\n",
              "      <th>lead source</th>\n",
              "      <th>last activity</th>\n",
              "      <th>specialization</th>\n",
              "      <th>what is your current occupation</th>\n",
              "      <th>what matters most to you in choosing a course</th>\n",
              "      <th>city</th>\n",
              "      <th>last notable activity</th>\n",
              "      <th>totalvisits</th>\n",
              "      <th>total time spent on website</th>\n",
              "      <th>page views per visit</th>\n",
              "    </tr>\n",
              "  </thead>\n",
              "  <tbody>\n",
              "    <tr>\n",
              "      <th>1461</th>\n",
              "      <td>api</td>\n",
              "      <td>google</td>\n",
              "      <td>olark chat conversation</td>\n",
              "      <td>others</td>\n",
              "      <td>unemployed</td>\n",
              "      <td>better career prospects</td>\n",
              "      <td>mumbai</td>\n",
              "      <td>modified</td>\n",
              "      <td>5.0</td>\n",
              "      <td>71</td>\n",
              "      <td>5.00</td>\n",
              "    </tr>\n",
              "    <tr>\n",
              "      <th>7926</th>\n",
              "      <td>api</td>\n",
              "      <td>direct traffic</td>\n",
              "      <td>olark chat conversation</td>\n",
              "      <td>others</td>\n",
              "      <td>unemployed</td>\n",
              "      <td>better career prospects</td>\n",
              "      <td>mumbai</td>\n",
              "      <td>modified</td>\n",
              "      <td>4.0</td>\n",
              "      <td>233</td>\n",
              "      <td>1.33</td>\n",
              "    </tr>\n",
              "    <tr>\n",
              "      <th>1909</th>\n",
              "      <td>landing page submission</td>\n",
              "      <td>google</td>\n",
              "      <td>email opened</td>\n",
              "      <td>marketing management</td>\n",
              "      <td>unemployed</td>\n",
              "      <td>better career prospects</td>\n",
              "      <td>other cities of maharashtra</td>\n",
              "      <td>email opened</td>\n",
              "      <td>5.0</td>\n",
              "      <td>431</td>\n",
              "      <td>2.50</td>\n",
              "    </tr>\n",
              "    <tr>\n",
              "      <th>8971</th>\n",
              "      <td>landing page submission</td>\n",
              "      <td>direct traffic</td>\n",
              "      <td>email opened</td>\n",
              "      <td>media and advertising</td>\n",
              "      <td>unemployed</td>\n",
              "      <td>better career prospects</td>\n",
              "      <td>mumbai</td>\n",
              "      <td>modified</td>\n",
              "      <td>4.0</td>\n",
              "      <td>1776</td>\n",
              "      <td>4.00</td>\n",
              "    </tr>\n",
              "    <tr>\n",
              "      <th>5310</th>\n",
              "      <td>landing page submission</td>\n",
              "      <td>direct traffic</td>\n",
              "      <td>sms sent</td>\n",
              "      <td>international business</td>\n",
              "      <td>unemployed</td>\n",
              "      <td>better career prospects</td>\n",
              "      <td>other cities</td>\n",
              "      <td>sms sent</td>\n",
              "      <td>4.0</td>\n",
              "      <td>101</td>\n",
              "      <td>4.00</td>\n",
              "    </tr>\n",
              "  </tbody>\n",
              "</table>\n",
              "</div>"
            ],
            "text/plain": [
              "                  lead origin  ... page views per visit\n",
              "1461                      api  ...                 5.00\n",
              "7926                      api  ...                 1.33\n",
              "1909  landing page submission  ...                 2.50\n",
              "8971  landing page submission  ...                 4.00\n",
              "5310  landing page submission  ...                 4.00\n",
              "\n",
              "[5 rows x 11 columns]"
            ]
          },
          "metadata": {
            "tags": []
          },
          "execution_count": 85
        }
      ]
    },
    {
      "cell_type": "code",
      "metadata": {
        "id": "0Xnrayje8hrX"
      },
      "source": [
        "columns = X_train.columns.to_list()\n",
        "for var in columns:\n",
        "  if var in cat_vars:\n",
        "    X_train[var] = pd.get_dummies(X_train[var])\n",
        "    X_test[var] = pd.get_dummies(X_test[var])"
      ],
      "execution_count": null,
      "outputs": []
    },
    {
      "cell_type": "code",
      "metadata": {
        "colab": {
          "base_uri": "https://localhost:8080/",
          "height": 304
        },
        "id": "bczZ4eRw9Mrm",
        "outputId": "94d7762e-e214-42b8-d9bd-e4cc2c1a2b69"
      },
      "source": [
        "X_train.head()"
      ],
      "execution_count": null,
      "outputs": [
        {
          "output_type": "execute_result",
          "data": {
            "text/html": [
              "<div>\n",
              "<style scoped>\n",
              "    .dataframe tbody tr th:only-of-type {\n",
              "        vertical-align: middle;\n",
              "    }\n",
              "\n",
              "    .dataframe tbody tr th {\n",
              "        vertical-align: top;\n",
              "    }\n",
              "\n",
              "    .dataframe thead th {\n",
              "        text-align: right;\n",
              "    }\n",
              "</style>\n",
              "<table border=\"1\" class=\"dataframe\">\n",
              "  <thead>\n",
              "    <tr style=\"text-align: right;\">\n",
              "      <th></th>\n",
              "      <th>lead origin</th>\n",
              "      <th>lead source</th>\n",
              "      <th>last activity</th>\n",
              "      <th>specialization</th>\n",
              "      <th>what is your current occupation</th>\n",
              "      <th>what matters most to you in choosing a course</th>\n",
              "      <th>city</th>\n",
              "      <th>last notable activity</th>\n",
              "      <th>totalvisits</th>\n",
              "      <th>total time spent on website</th>\n",
              "      <th>page views per visit</th>\n",
              "    </tr>\n",
              "  </thead>\n",
              "  <tbody>\n",
              "    <tr>\n",
              "      <th>7635</th>\n",
              "      <td>0</td>\n",
              "      <td>0</td>\n",
              "      <td>0</td>\n",
              "      <td>0</td>\n",
              "      <td>0</td>\n",
              "      <td>1</td>\n",
              "      <td>0</td>\n",
              "      <td>0</td>\n",
              "      <td>1.0</td>\n",
              "      <td>345</td>\n",
              "      <td>1.00</td>\n",
              "    </tr>\n",
              "    <tr>\n",
              "      <th>7276</th>\n",
              "      <td>1</td>\n",
              "      <td>0</td>\n",
              "      <td>0</td>\n",
              "      <td>0</td>\n",
              "      <td>0</td>\n",
              "      <td>1</td>\n",
              "      <td>1</td>\n",
              "      <td>0</td>\n",
              "      <td>3.0</td>\n",
              "      <td>641</td>\n",
              "      <td>1.50</td>\n",
              "    </tr>\n",
              "    <tr>\n",
              "      <th>8724</th>\n",
              "      <td>0</td>\n",
              "      <td>0</td>\n",
              "      <td>0</td>\n",
              "      <td>0</td>\n",
              "      <td>0</td>\n",
              "      <td>1</td>\n",
              "      <td>0</td>\n",
              "      <td>0</td>\n",
              "      <td>3.0</td>\n",
              "      <td>389</td>\n",
              "      <td>3.00</td>\n",
              "    </tr>\n",
              "    <tr>\n",
              "      <th>8314</th>\n",
              "      <td>0</td>\n",
              "      <td>0</td>\n",
              "      <td>0</td>\n",
              "      <td>0</td>\n",
              "      <td>0</td>\n",
              "      <td>1</td>\n",
              "      <td>1</td>\n",
              "      <td>0</td>\n",
              "      <td>11.0</td>\n",
              "      <td>1002</td>\n",
              "      <td>3.67</td>\n",
              "    </tr>\n",
              "    <tr>\n",
              "      <th>5033</th>\n",
              "      <td>0</td>\n",
              "      <td>0</td>\n",
              "      <td>0</td>\n",
              "      <td>0</td>\n",
              "      <td>0</td>\n",
              "      <td>1</td>\n",
              "      <td>1</td>\n",
              "      <td>0</td>\n",
              "      <td>14.0</td>\n",
              "      <td>302</td>\n",
              "      <td>3.50</td>\n",
              "    </tr>\n",
              "  </tbody>\n",
              "</table>\n",
              "</div>"
            ],
            "text/plain": [
              "      lead origin  ...  page views per visit\n",
              "7635            0  ...                  1.00\n",
              "7276            1  ...                  1.50\n",
              "8724            0  ...                  3.00\n",
              "8314            0  ...                  3.67\n",
              "5033            0  ...                  3.50\n",
              "\n",
              "[5 rows x 11 columns]"
            ]
          },
          "metadata": {
            "tags": []
          },
          "execution_count": 87
        }
      ]
    },
    {
      "cell_type": "markdown",
      "metadata": {
        "id": "ziHENkV_irXL"
      },
      "source": [
        "##**Scalling numerical columns**"
      ]
    },
    {
      "cell_type": "code",
      "metadata": {
        "id": "Ig01MYw_gzu2"
      },
      "source": [
        "scaler = StandardScaler()\n",
        "scaler_num_var = scaler.fit(df[num_vars])\n",
        "X_train[num_vars] = scaler_num_var.transform(X_train[num_vars])\n",
        "X_test[num_vars] = scaler_num_var.transform(X_test[num_vars])"
      ],
      "execution_count": null,
      "outputs": []
    },
    {
      "cell_type": "code",
      "metadata": {
        "colab": {
          "base_uri": "https://localhost:8080/",
          "height": 304
        },
        "id": "iAJXBXzPwv1t",
        "outputId": "80cbc4ec-08d6-426c-e7d7-ae142deee9a9"
      },
      "source": [
        "X_test.head()"
      ],
      "execution_count": null,
      "outputs": [
        {
          "output_type": "execute_result",
          "data": {
            "text/html": [
              "<div>\n",
              "<style scoped>\n",
              "    .dataframe tbody tr th:only-of-type {\n",
              "        vertical-align: middle;\n",
              "    }\n",
              "\n",
              "    .dataframe tbody tr th {\n",
              "        vertical-align: top;\n",
              "    }\n",
              "\n",
              "    .dataframe thead th {\n",
              "        text-align: right;\n",
              "    }\n",
              "</style>\n",
              "<table border=\"1\" class=\"dataframe\">\n",
              "  <thead>\n",
              "    <tr style=\"text-align: right;\">\n",
              "      <th></th>\n",
              "      <th>lead origin</th>\n",
              "      <th>lead source</th>\n",
              "      <th>last activity</th>\n",
              "      <th>specialization</th>\n",
              "      <th>what is your current occupation</th>\n",
              "      <th>what matters most to you in choosing a course</th>\n",
              "      <th>city</th>\n",
              "      <th>last notable activity</th>\n",
              "      <th>totalvisits</th>\n",
              "      <th>total time spent on website</th>\n",
              "      <th>page views per visit</th>\n",
              "    </tr>\n",
              "  </thead>\n",
              "  <tbody>\n",
              "    <tr>\n",
              "      <th>1461</th>\n",
              "      <td>1</td>\n",
              "      <td>0</td>\n",
              "      <td>0</td>\n",
              "      <td>0</td>\n",
              "      <td>0</td>\n",
              "      <td>1</td>\n",
              "      <td>1</td>\n",
              "      <td>0</td>\n",
              "      <td>0.317786</td>\n",
              "      <td>-0.755443</td>\n",
              "      <td>1.217099</td>\n",
              "    </tr>\n",
              "    <tr>\n",
              "      <th>7926</th>\n",
              "      <td>1</td>\n",
              "      <td>0</td>\n",
              "      <td>0</td>\n",
              "      <td>0</td>\n",
              "      <td>0</td>\n",
              "      <td>1</td>\n",
              "      <td>1</td>\n",
              "      <td>0</td>\n",
              "      <td>0.111962</td>\n",
              "      <td>-0.458319</td>\n",
              "      <td>-0.481384</td>\n",
              "    </tr>\n",
              "    <tr>\n",
              "      <th>1909</th>\n",
              "      <td>0</td>\n",
              "      <td>0</td>\n",
              "      <td>0</td>\n",
              "      <td>0</td>\n",
              "      <td>0</td>\n",
              "      <td>1</td>\n",
              "      <td>0</td>\n",
              "      <td>0</td>\n",
              "      <td>0.317786</td>\n",
              "      <td>-0.095167</td>\n",
              "      <td>0.060094</td>\n",
              "    </tr>\n",
              "    <tr>\n",
              "      <th>8971</th>\n",
              "      <td>0</td>\n",
              "      <td>0</td>\n",
              "      <td>0</td>\n",
              "      <td>0</td>\n",
              "      <td>0</td>\n",
              "      <td>1</td>\n",
              "      <td>1</td>\n",
              "      <td>0</td>\n",
              "      <td>0.111962</td>\n",
              "      <td>2.371698</td>\n",
              "      <td>0.754297</td>\n",
              "    </tr>\n",
              "    <tr>\n",
              "      <th>5310</th>\n",
              "      <td>0</td>\n",
              "      <td>0</td>\n",
              "      <td>0</td>\n",
              "      <td>0</td>\n",
              "      <td>0</td>\n",
              "      <td>1</td>\n",
              "      <td>0</td>\n",
              "      <td>0</td>\n",
              "      <td>0.111962</td>\n",
              "      <td>-0.700420</td>\n",
              "      <td>0.754297</td>\n",
              "    </tr>\n",
              "  </tbody>\n",
              "</table>\n",
              "</div>"
            ],
            "text/plain": [
              "      lead origin  ...  page views per visit\n",
              "1461            1  ...              1.217099\n",
              "7926            1  ...             -0.481384\n",
              "1909            0  ...              0.060094\n",
              "8971            0  ...              0.754297\n",
              "5310            0  ...              0.754297\n",
              "\n",
              "[5 rows x 11 columns]"
            ]
          },
          "metadata": {
            "tags": []
          },
          "execution_count": 89
        }
      ]
    },
    {
      "cell_type": "markdown",
      "metadata": {
        "id": "cqIsnmcrokCc"
      },
      "source": [
        "##**Train the model**"
      ]
    },
    {
      "cell_type": "code",
      "metadata": {
        "colab": {
          "base_uri": "https://localhost:8080/"
        },
        "id": "8xow5w0agzjo",
        "outputId": "fc5803c5-186f-49a7-b1a9-b0077ff8aae1"
      },
      "source": [
        "n_estimators = 100\n",
        "min_samples_split = 4\n",
        "\n",
        "clf = RandomForestClassifier(n_estimators=n_estimators,\n",
        "                            min_samples_split=min_samples_split)\n",
        "clf.fit(X_train, y_train.values.ravel())"
      ],
      "execution_count": null,
      "outputs": [
        {
          "output_type": "execute_result",
          "data": {
            "text/plain": [
              "RandomForestClassifier(bootstrap=True, ccp_alpha=0.0, class_weight=None,\n",
              "                       criterion='gini', max_depth=None, max_features='auto',\n",
              "                       max_leaf_nodes=None, max_samples=None,\n",
              "                       min_impurity_decrease=0.0, min_impurity_split=None,\n",
              "                       min_samples_leaf=1, min_samples_split=4,\n",
              "                       min_weight_fraction_leaf=0.0, n_estimators=100,\n",
              "                       n_jobs=None, oob_score=False, random_state=None,\n",
              "                       verbose=0, warm_start=False)"
            ]
          },
          "metadata": {
            "tags": []
          },
          "execution_count": 90
        }
      ]
    },
    {
      "cell_type": "code",
      "metadata": {
        "colab": {
          "base_uri": "https://localhost:8080/"
        },
        "id": "ErftpKU5gzg5",
        "outputId": "d2232290-1ea7-4a01-b756-f345ba01dae6"
      },
      "source": [
        "y_test_pred = clf.predict(X_test)\n",
        "\n",
        "accuracy = accuracy_score(y_test, y_test_pred)\n",
        "auc_score = roc_auc_score(y_test, y_test_pred)\n",
        "\n",
        "print(accuracy)\n",
        "print(auc_score)"
      ],
      "execution_count": null,
      "outputs": [
        {
          "output_type": "stream",
          "text": [
            "0.7300771208226221\n",
            "0.698622087261454\n"
          ],
          "name": "stdout"
        }
      ]
    },
    {
      "cell_type": "markdown",
      "metadata": {
        "id": "z1wFhxi_52yv"
      },
      "source": [
        "##**Calculating feature importance**"
      ]
    },
    {
      "cell_type": "code",
      "metadata": {
        "colab": {
          "base_uri": "https://localhost:8080/"
        },
        "id": "UYQXo6EN5XdP",
        "outputId": "245283f5-508a-4037-c28b-27ee5a3978d6"
      },
      "source": [
        "feature_imp = pd.Series(clf.feature_importances_,index=X_train.columns).sort_values(ascending=False)\n",
        "feature_imp_T3 = feature_imp.iloc[:3].copy()\n",
        "print(feature_imp_T3)"
      ],
      "execution_count": null,
      "outputs": [
        {
          "output_type": "stream",
          "text": [
            "total time spent on website    0.695524\n",
            "totalvisits                    0.100984\n",
            "lead origin                    0.087769\n",
            "dtype: float64\n"
          ],
          "name": "stdout"
        }
      ]
    },
    {
      "cell_type": "markdown",
      "metadata": {
        "id": "yHxx2suC9UHe"
      },
      "source": [
        "##**Plotting feature importance**"
      ]
    },
    {
      "cell_type": "code",
      "metadata": {
        "colab": {
          "base_uri": "https://localhost:8080/",
          "height": 343
        },
        "id": "U9fnisil5Mu3",
        "outputId": "1963e948-957a-4c86-bded-51133d9973db"
      },
      "source": [
        "import matplotlib.pyplot as plt\n",
        "import seaborn as sns\n",
        "sns.set(style='whitegrid', palette='muted', font_scale=1.2)\n",
        "HAPPY_COLORS_PALETTE = [\"#01BEFE\", \"#FFDD00\", \"#FF7D00\", \"#FF006D\", \"#ADFF02\", \"#8F00FF\"]\n",
        "sns.set_palette(sns.color_palette(HAPPY_COLORS_PALETTE))\n",
        "\n",
        "%matplotlib inline\n",
        "# Creating a bar plot\n",
        "sns.barplot(x=feature_imp_T3, y=feature_imp_T3.index)\n",
        "# Add labels to your graph\n",
        "\n",
        "plt.xlabel('Feature Importance Score')\n",
        "plt.ylabel('Features')\n",
        "plt.title(\"Visualizing Important Features\")\n",
        "plt.legend()\n",
        "plt.show()"
      ],
      "execution_count": null,
      "outputs": [
        {
          "output_type": "stream",
          "text": [
            "No handles with labels found to put in legend.\n"
          ],
          "name": "stderr"
        },
        {
          "output_type": "display_data",
          "data": {
            "image/png": "[encoded data removed]",
            "text/plain": [
              "<Figure size 432x288 with 1 Axes>"
            ]
          },
          "metadata": {
            "tags": [],
            "needs_background": "light"
          }
        }
      ]
    }
  ]
}